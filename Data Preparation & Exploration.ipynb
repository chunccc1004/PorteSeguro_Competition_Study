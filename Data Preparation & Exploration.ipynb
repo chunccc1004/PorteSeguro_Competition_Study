{
 "cells": [
  {
   "cell_type": "markdown",
   "metadata": {},
   "source": [
    "목차  \n",
    "\n",
    "[1.소개](#소개)  \n",
    "[2.패키지 로딩](#패키지-로딩)  \n",
    "[3.데이터 로딩](#데이터-로딩)  "
   ]
  },
  {
   "cell_type": "markdown",
   "metadata": {
    "hide_input": false
   },
   "source": [
    "# 소개\n",
    "\n",
    "이 노트북은 PorteSeguro 대회에 대한 데이터의 insight를 얻는 것이 목적이다.  \n",
    "그 외에 데이터 모델링에 대한 몇가지 팁과 재주를 얻을 수 있다. 이 노트북은 아래와 같은 세션으로 구성되어 있다.  \n",
    "\n",
    "1. 데이터 시각화(Defining the metadata)\n",
    "2. metadata 정의(Defining the metadata)\n",
    "3. 기술적인 통계(Descriptive statistics)\n",
    "4. ibalanced class들을 다루기(Handling imbalanced classes)\n",
    "5. 데이터 질 확인(Data quality checks)\n",
    "6. 탐색적 데이터 시각화(Exploratory data visualization)\n",
    "7. 기계 학습(Feature engineering)\n",
    "8. 특징 선택(Feature selection)\n",
    "9. 데이터 시각화(Feature scaling)\n"
   ]
  },
  {
   "cell_type": "markdown",
   "metadata": {},
   "source": [
    "# 패키지 로딩"
   ]
  },
  {
   "cell_type": "code",
   "execution_count": 2,
   "metadata": {
    "ExecuteTime": {
     "end_time": "2021-03-17T23:43:32.164345Z",
     "start_time": "2021-03-17T23:43:32.121370Z"
    }
   },
   "outputs": [],
   "source": [
    "import pandas as pd\n",
    "import numpy as np\n",
    "import matplotlib.pyplot as plt\n",
    "import seaborn as sns\n",
    "from sklearn.impute import SimpleImputer #sklearn.preprocessing.Imputer 클래스가 삭제되어 sklearn.impute.SimpleImputer로 대체함\n",
    "from sklearn.preprocessing import PolynomialFeatures\n",
    "from sklearn.preprocessing import StandardScaler\n",
    "from sklearn.feature_selection import VarianceThreshold\n",
    "from sklearn.feature_selection import SelectFromModel\n",
    "from sklearn.utils import shuffle\n",
    "from sklearn.ensemble import RandomForestClassifier\n",
    "\n",
    "pd.set_option('display.max_columns', 100)"
   ]
  },
  {
   "cell_type": "markdown",
   "metadata": {},
   "source": [
    "# 데이터 로딩"
   ]
  },
  {
   "cell_type": "code",
   "execution_count": 5,
   "metadata": {
    "ExecuteTime": {
     "end_time": "2021-03-17T23:45:34.548827Z",
     "start_time": "2021-03-17T23:45:28.887782Z"
    }
   },
   "outputs": [],
   "source": [
    "train = pd.read_csv('./data/train.csv')\n",
    "test = pd.read_csv('./data/test.csv')"
   ]
  },
  {
   "cell_type": "markdown",
   "metadata": {},
   "source": [
    "# 데이터 인사이트(1)"
   ]
  },
  {
   "cell_type": "code",
   "execution_count": null,
   "metadata": {},
   "outputs": [],
   "source": []
  }
 ],
 "metadata": {
  "hide_input": false,
  "kernelspec": {
   "display_name": "Python 3",
   "language": "python",
   "name": "python3"
  },
  "language_info": {
   "codemirror_mode": {
    "name": "ipython",
    "version": 3
   },
   "file_extension": ".py",
   "mimetype": "text/x-python",
   "name": "python",
   "nbconvert_exporter": "python",
   "pygments_lexer": "ipython3",
   "version": "3.8.5"
  },
  "toc": {
   "base_numbering": 1,
   "nav_menu": {},
   "number_sections": true,
   "sideBar": true,
   "skip_h1_title": false,
   "title_cell": "Table of Contents",
   "title_sidebar": "Contents",
   "toc_cell": false,
   "toc_position": {},
   "toc_section_display": true,
   "toc_window_display": true
  }
 },
 "nbformat": 4,
 "nbformat_minor": 4
}
