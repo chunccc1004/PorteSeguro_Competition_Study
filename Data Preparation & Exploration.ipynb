{
 "cells": [
  {
   "cell_type": "markdown",
   "metadata": {},
   "source": [
    "# Introduction\n",
    "\n",
    "이 노트북은 PorteSeguro 대회에 대한 데이터의 insight를 얻는 것이 목적이다.  \n",
    "그 외에 데이터 모델링에 대한 몇가지 팁과 재주를 얻을 수 있다. 이 노트북은 아래와 같은 세션으로 구성되어 있다.  \n",
    "\n",
    "1. 데이터 시각화(Defining the metadata)\n",
    "2. metadata 정의(Defining the metadata)\n",
    "3. 기술적인 통계(Descriptive statistics)\n",
    "4. ibalanced class들을 다루기(Handling imbalanced classes)\n",
    "5. 데이터 질 확인(Data quality checks)\n",
    "6. 탐색적 데이터 시각화(Exploratory data visualization)\n",
    "7. 기계 학습(Feature engineering)\n",
    "8. 특징 선택(Feature selection)\n",
    "9. 데이터 시각화(Feature scaling)\n"
   ]
  },
  {
   "cell_type": "markdown",
   "metadata": {},
   "source": []
  },
  {
   "cell_type": "code",
   "execution_count": null,
   "metadata": {},
   "outputs": [],
   "source": []
  }
 ],
 "metadata": {
  "kernelspec": {
   "display_name": "Python 3",
   "language": "python",
   "name": "python3"
  },
  "language_info": {
   "codemirror_mode": {
    "name": "ipython",
    "version": 3
   },
   "file_extension": ".py",
   "mimetype": "text/x-python",
   "name": "python",
   "nbconvert_exporter": "python",
   "pygments_lexer": "ipython3",
   "version": "3.8.5"
  }
 },
 "nbformat": 4,
 "nbformat_minor": 4
}
